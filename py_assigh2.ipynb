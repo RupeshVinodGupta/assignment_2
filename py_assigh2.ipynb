{
  "metadata": {
    "kernelspec": {
      "name": "python",
      "display_name": "Python (Pyodide)",
      "language": "python"
    },
    "language_info": {
      "name": ""
    }
  },
  "nbformat_minor": 4,
  "nbformat": 4,
  "cells": [
    {
      "cell_type": "code",
      "source": "Q1. How can we store a single quote (‘) as a string in a variable?\n\nanswer:-\nA single quote can be stored in a string by placing it in double quotes (\") or using an escape character, like this: a backslash (\\).\n\nExample\n\npython\nCopy code\n# Using double quotes\nstring1 = \"This is a single quote: '\"\n\n# Using escape character\nstring2 = 'This is a single quote: \\''\n\n\nQ2. Refer the below variable:\nx = ‘a’\nHere, is x a character type or string type variable? Support your answer with an explanation.\n\nAnswer:-\nIn Python, `x` is a **string type variable**, not a character type.\n- Python does not have a separate character data type.\n- A single character enclosed in quotes (`'` or `\"`) is considered a string of length 1.\n\n**Example:**\n```python\nx = 'a'\nprint(type(x)) # Output: <class 'str'>\n\n\n\nQ3. Apply the following functions on this variable: ‘Welcome to Python foundation course'\nSP find(0\n.P count(0\n?P len(0\nP Concatenation\nNote: You can use your choice of parameters. But make sure it is correct.\n\nanswer:-\n**Given String:** string = 'Welcome to Python foundation course'\n\n**(a) `find()`**: Finds the first occurrence of a substring.\n```python\nindex = string.find('Python')\nprint(index) # Output: 11 (index of the first 'P' in 'Python')\n```\n\n**(b) `count()`**: Counts occurrences of a substring.\n```python\ncount = string.count('o')\nprint(count) # Output: 5 (count of 'o' in the string)\n```\n\n**(c) `len()`**:\nReturns the length of the string.\n```python\nlength = len(string)\nprint(length) # Output: 36\n```\n\n**(d) Concatenation:**\nCombines two strings.\n```python\nnew_string = string + ' - Enjoy Learning!'\nprint(new_string)\n# Output: 'Welcome to Python foundation course - Enjoy Learning!'\n```\n\n\n\n\nQ4. For the variable: word = ‘PanaJi@12256’\nCalculate the following:\n(a) Total number of alphabets in lowercase\n(b) Total number of alphabets in uppercase\n(c) Total number of numerical in string\n\nanswer:-\n\n```python\nword = 'PanaJi@12256'\n\n# (a) Total number of lowercase alphabets\nlowercase_count = sum(1 for char in word if char.islower())\nprint(lowercase_count) # Output: 4 ('a', 'n', 'a', 'i')\n\n# (b) Total number of uppercase alphabets\nuppercase_count = sum(1 for char in word if char.isupper())\nprint(uppercase_count) # Output: 2 ('P', 'J')\n\n# (c) Total number of numerical characters\nnumerical_count = sum(1 for char in word if char.isdigit())\nprint(numerical_count) # Output: 5 ('1', '2', '2', '5', '6')\n```\n\n\n\nQ5. Write a code to store a numerical value inside a variable then convert it into string.\n\nanswer:-\n```python\n# Storing a numerical value\nnum = 12345\n\n# Converting it to a string\nnum_as_string = str(num)\nprint(type(num_as_string)) # Output: <class 'str'>\nprint(num_as_string) # Output: '12345\n",
      "metadata": {
        "trusted": true
      },
      "outputs": [],
      "execution_count": null
    }
  ]
}