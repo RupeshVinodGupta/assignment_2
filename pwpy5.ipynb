{
  "metadata": {
    "kernelspec": {
      "name": "",
      "display_name": ""
    },
    "language_info": {
      "name": ""
    }
  },
  "nbformat_minor": 4,
  "nbformat": 4,
  "cells": [
    {
      "cell_type": "raw",
      "source": "**Answers:**\n\nQ1. What is a set in Python?\nanswer:- A set in Python is a built-in data type that represents an unordered collection of unique and immutable elements. It is widely used for operations like elimination of duplicates, membership testing, and mathematical set operations such as union, intersection, and difference.\n\n\nQ2. How do you create a set in Python?\nanswer:-we can create a set in Python either by using curly braces `{}` with elements or by using the `set()` constructor.  \n**Examples:**  \n```python\n# Using curly braces\nmy_set = {1, 2, 3}\n\n# Using the set() constructor\nmy_set = set([1, 2, 3])\n```\n\n\nQ3. How do you add elements to a set in Python?\nanswer:- we can add elements to a set using the `add()` method. This method adds a single element to the set.  \n**Example:**  \n```python\nmy_set = {1, 2, 3}\nmy_set.add(4)  # Adds 4 to the set\nprint(my_set)  # Output: {1, 2, 3, 4}\n```\n\n\nQ4. How do you remove elements from a set in Python?\nanswer:-\n- To remove a specific element: Use the `remove()` function. It returns a `KeyError` when the element is not present.  \n- To remove an element safely: Use the `discard()` function. It does not return an error when the element is not present.  \n- To remove and return a random element: Use the `pop()` function.  \n**Examples:**  \n```python\nmy_set = {1, 2, 3, 4}\nmy_set.remove(3)  # Deletes 3\nmy_set.discard(5)  # Does nothing if 5 is not in the set\nremoved_element = my_set.pop()  # Removes and returns an arbitrary element\nprint(my_set)\n```\n\n\nQ5. How do you get the length of a set in Python\nanswer:- we can use the `len()` function to get the number of elements in a set.  \n**Example:**  \n```python\nmy_set = {1, 2, 3, 4}\nprint(len(my_set))  # Output: 4\n```",
      "metadata": {}
    }
  ]
}